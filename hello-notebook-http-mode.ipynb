{
 "cells": [
  {
   "cell_type": "markdown",
   "metadata": {},
   "source": [
    "# Hello, `notebook-http` mode\n",
    "\n",
    "**_A notebook serving itself and an API from [fly.io](https://fly.io) using [Jupyter Kernel Gateway `notebook-http` mode](https://jupyter-kernel-gateway.readthedocs.io/en/latest/http-mode.html)._**\n",
    "\n",
    "_Alternative title: You might not need Flask._\n",
    "\n",
    "[Max Bo](https://maxbo.me), published 25 September 2024\n",
    "\n",
    "[github.com/MaxwellBo/hello-notebook-http-mode](https://github.com/MaxwellBo/hello-notebook-http-mode)\n",
    "\n",
    "---\n",
    "\n",
    "I was reading the [new htmx HATEOS article](https://htmx.org/essays/hateoas/), and started wondering how easy it would be to create a self-documenting API.\n",
    "\n",
    "Without further ado:"
   ]
  },
  {
   "cell_type": "markdown",
   "metadata": {},
   "source": [
    "## A refresher on `notebook-http` mode\n",
    "\n",
    "Prefix a notebook a single line comment to turn it into a HTTP handler. \n",
    "\n",
    "Visit [/hello/world](/hello/world) to see this in action."
   ]
  },
  {
   "cell_type": "code",
   "execution_count": 60,
   "metadata": {},
   "outputs": [
    {
     "name": "stdout",
     "output_type": "stream",
     "text": [
      "hello world\n"
     ]
    }
   ],
   "source": [
    "# GET /hello/world\n",
    "print(\"hello world\")"
   ]
  },
  {
   "cell_type": "markdown",
   "metadata": {},
   "source": [
    "Multiple cells may share the same annotation. Their content is concatenated to form a single code segment at runtime. This facilitates typical, iterative development in notebooks with lots of short, separate cells: The notebook author does not need to merge all of the cells into one, or refactor to use functions. \n",
    "\n",
    "[/split](/split)"
   ]
  },
  {
   "cell_type": "code",
   "execution_count": 61,
   "metadata": {},
   "outputs": [
    {
     "name": "stdout",
     "output_type": "stream",
     "text": [
      "I'm cell #1\n"
     ]
    }
   ],
   "source": [
    "# GET /split\n",
    "print(\"I'm cell #1\")"
   ]
  },
  {
   "cell_type": "code",
   "execution_count": 62,
   "metadata": {},
   "outputs": [
    {
     "name": "stdout",
     "output_type": "stream",
     "text": [
      "I'm cell #2\n"
     ]
    }
   ],
   "source": [
    "# GET /split\n",
    "print(\"I'm cell #2\")"
   ]
  },
  {
   "cell_type": "markdown",
   "metadata": {},
   "source": [
    "## Reflection\n",
    "\n",
    "The notebook runs `nbconvert` on itself and serves the output HTML on `/`."
   ]
  },
  {
   "cell_type": "code",
   "execution_count": 68,
   "metadata": {},
   "outputs": [],
   "source": [
    "# GET /\n",
    "import os\n",
    "import subprocess\n",
    "\n",
    "if not os.path.exists('hello-notebook-http-mode.html'):\n",
    "    subprocess.run([\"jupyter\", \"nbconvert\", \"--to\", \"html\", \"hello-notebook-http-mode.ipynb\"])\n",
    "\n",
    "with open('hello-notebook-http-mode.html', 'r') as file:\n",
    "    print(file.read())"
   ]
  },
  {
   "cell_type": "markdown",
   "metadata": {},
   "source": [
    "We have to use this somewhat goofy [`ResponseInfo` \"metadata companion cell\"](https://jupyter-kernel-gateway.readthedocs.io/en/latest/http-mode.html#setting-the-response-status-and-headers) to force the `Content-Type` to `text/html`."
   ]
  },
  {
   "cell_type": "code",
   "execution_count": 64,
   "metadata": {},
   "outputs": [
    {
     "name": "stdout",
     "output_type": "stream",
     "text": [
      "{\"headers\": {\"Content-Type\": \"text/html\"}, \"status\": 200}\n"
     ]
    }
   ],
   "source": [
    "# ResponseInfo GET /\n",
    "import json\n",
    "\n",
    "print(json.dumps({\n",
    "    \"headers\" : {\n",
    "        \"Content-Type\" : \"text/html\"\n",
    "    },\n",
    "    \"status\" : 200\n",
    "}))"
   ]
  },
  {
   "cell_type": "markdown",
   "metadata": {},
   "source": [
    "## Endpoints"
   ]
  },
  {
   "cell_type": "markdown",
   "metadata": {},
   "source": [
    "### Basic `GET`\n",
    "\n",
    "We can return on-demand dynamic data from an endpoint.\n",
    "\n",
    "This will be different from the time displayed below, which is the time interred into the `.ipynb` file when it was last evaluated and saved.\n",
    "\n",
    "[/time](/time)"
   ]
  },
  {
   "cell_type": "code",
   "execution_count": 65,
   "metadata": {},
   "outputs": [
    {
     "name": "stdout",
     "output_type": "stream",
     "text": [
      "2024-09-25 15:10:01.646743\n"
     ]
    }
   ],
   "source": [
    "# GET /time\n",
    "\n",
    "from datetime import datetime\n",
    "\n",
    "print(datetime.now())"
   ]
  },
  {
   "cell_type": "markdown",
   "metadata": {},
   "source": [
    "### Path and query parameters\n",
    "\n",
    "Path and query parameters are injected into a `REQUEST` object. `REQUEST` is not available at standard Jupyter notebook evaluation time, hence the big red error.\n",
    "\n",
    "[/users/mb/collections/guitars?limit=5](/users/mb/collections/guitars?limit=5)"
   ]
  },
  {
   "cell_type": "code",
   "execution_count": 66,
   "metadata": {},
   "outputs": [
    {
     "ename": "NameError",
     "evalue": "name 'REQUEST' is not defined",
     "output_type": "error",
     "traceback": [
      "\u001b[0;31m---------------------------------------------------------------------------\u001b[0m",
      "\u001b[0;31mNameError\u001b[0m                                 Traceback (most recent call last)",
      "Cell \u001b[0;32mIn[66], line 4\u001b[0m\n\u001b[1;32m      1\u001b[0m \u001b[38;5;66;03m# GET /users/:userId/collections/:collectionId\u001b[39;00m\n\u001b[1;32m      2\u001b[0m \u001b[38;5;28;01mimport\u001b[39;00m \u001b[38;5;21;01mjson\u001b[39;00m\n\u001b[0;32m----> 4\u001b[0m req \u001b[38;5;241m=\u001b[39m json\u001b[38;5;241m.\u001b[39mloads(\u001b[43mREQUEST\u001b[49m)\n\u001b[1;32m      5\u001b[0m \u001b[38;5;28mprint\u001b[39m(req)\n",
      "\u001b[0;31mNameError\u001b[0m: name 'REQUEST' is not defined"
     ]
    }
   ],
   "source": [
    "# GET /users/:userId/collections/:collectionId\n",
    "import json\n",
    "\n",
    "req = json.loads(REQUEST)\n",
    "print(req)"
   ]
  },
  {
   "cell_type": "markdown",
   "metadata": {},
   "source": [
    "### `POST` and forms\n",
    "\n",
    "We can also handle `POST` requests from forms.\n",
    "\n",
    "\n",
    "```html\n",
    "<form action=\"/rsvps\" method=\"POST\">\n",
    "  <input type=\"text\" name=\"name\" placeholder=\"Your name\">\n",
    "  <input type=\"submit\" value=\"RSVP\">\n",
    "</form>\n",
    "```\n",
    "\n",
    "<form action=\"/rsvps\" method=\"POST\">\n",
    "  <input type=\"text\" name=\"name\" placeholder=\"Your name\">\n",
    "  <input type=\"submit\" value=\"RSVP\">\n",
    "</form>"
   ]
  },
  {
   "cell_type": "code",
   "execution_count": 37,
   "metadata": {},
   "outputs": [],
   "source": [
    "rsvps = []"
   ]
  },
  {
   "cell_type": "code",
   "execution_count": 38,
   "metadata": {},
   "outputs": [
    {
     "ename": "NameError",
     "evalue": "name 'REQUEST' is not defined",
     "output_type": "error",
     "traceback": [
      "\u001b[0;31m---------------------------------------------------------------------------\u001b[0m",
      "\u001b[0;31mNameError\u001b[0m                                 Traceback (most recent call last)",
      "Cell \u001b[0;32mIn[38], line 4\u001b[0m\n\u001b[1;32m      1\u001b[0m \u001b[38;5;66;03m# POST /rsvps\u001b[39;00m\n\u001b[1;32m      2\u001b[0m \u001b[38;5;28;01mimport\u001b[39;00m \u001b[38;5;21;01mjson\u001b[39;00m\n\u001b[0;32m----> 4\u001b[0m req \u001b[38;5;241m=\u001b[39m json\u001b[38;5;241m.\u001b[39mloads(\u001b[43mREQUEST\u001b[49m)\n\u001b[1;32m      5\u001b[0m rsvps\u001b[38;5;241m.\u001b[39mappend(req[\u001b[38;5;124m\"\u001b[39m\u001b[38;5;124mbody\u001b[39m\u001b[38;5;124m\"\u001b[39m][\u001b[38;5;124m\"\u001b[39m\u001b[38;5;124mname\u001b[39m\u001b[38;5;124m\"\u001b[39m][\u001b[38;5;241m0\u001b[39m])\n\u001b[1;32m      6\u001b[0m \u001b[38;5;28mprint\u001b[39m(json\u001b[38;5;241m.\u001b[39mdumps(rsvps))\n",
      "\u001b[0;31mNameError\u001b[0m: name 'REQUEST' is not defined"
     ]
    }
   ],
   "source": [
    "# POST /rsvps\n",
    "import json\n",
    "\n",
    "req = json.loads(REQUEST)\n",
    "rsvps.append(req[\"body\"][\"name\"][0])\n",
    "print(json.dumps(rsvps))"
   ]
  },
  {
   "cell_type": "code",
   "execution_count": 21,
   "metadata": {},
   "outputs": [
    {
     "name": "stdout",
     "output_type": "stream",
     "text": [
      "{\"headers\": {\"Content-Type\": \"application/json\"}, \"status\": 201}\n"
     ]
    }
   ],
   "source": [
    "# ResponseInfo POST /rsvps\n",
    "print(json.dumps({\n",
    "    \"headers\" : {\n",
    "        \"Content-Type\" : \"application/json\"\n",
    "    },\n",
    "    \"status\" : 201\n",
    "}))"
   ]
  },
  {
   "cell_type": "markdown",
   "metadata": {},
   "source": [
    "We can also dynamically render content from endpoints (with some JavaScript):\n",
    "\n",
    "```html\n",
    "<div>\n",
    "  <b>RSVPs:</b>\n",
    "  <ul id=\"rsvps\"></ul>\n",
    "  <script>\n",
    "    fetch('/rsvps')\n",
    "      .then(response => response.json())\n",
    "      .then(data => {\n",
    "        const rsvps = document.getElementById('rsvps');\n",
    "        data.forEach(name => {\n",
    "          const li = document.createElement('li');\n",
    "          li.textContent = name;\n",
    "          rsvps.appendChild(li);\n",
    "        });\n",
    "      });\n",
    "  </script>\n",
    "</div>\n",
    "```\n",
    "\n",
    "<div>\n",
    "  <b>RSVPs:</b>\n",
    "  <ul id=\"rsvps\"></ul>\n",
    "  <script>\n",
    "    fetch('/rsvps')\n",
    "      .then(response => response.json())\n",
    "      .then(data => {\n",
    "        const rsvps = document.getElementById('rsvps');\n",
    "        data.forEach(name => {\n",
    "          const li = document.createElement('li');\n",
    "          li.textContent = name;\n",
    "          rsvps.appendChild(li);\n",
    "        });\n",
    "      });\n",
    "  </script>\n",
    "</div>"
   ]
  },
  {
   "cell_type": "markdown",
   "metadata": {},
   "source": [
    "[/rsvps](/rsvps)"
   ]
  },
  {
   "cell_type": "code",
   "execution_count": 22,
   "metadata": {},
   "outputs": [
    {
     "name": "stdout",
     "output_type": "stream",
     "text": [
      "[]\n"
     ]
    }
   ],
   "source": [
    "# GET /rsvps\n",
    "import json\n",
    "\n",
    "print(json.dumps(rsvps))"
   ]
  },
  {
   "cell_type": "markdown",
   "metadata": {},
   "source": [
    "### Swagger\n",
    "\n",
    "The Kernel Gateway auto-generates API docs served at [/_api/spec/swagger.json](/_api/spec/swagger.json)."
   ]
  },
  {
   "cell_type": "markdown",
   "metadata": {},
   "source": [
    "## Docker\n",
    "\n",
    "This is the Docker configuration I adapted from [Jupyter Kernel Gateway documentation - Running using a Docker stacks image](https://jupyter-kernel-gateway.readthedocs.io/en/stable/http-mode.html)."
   ]
  },
  {
   "cell_type": "code",
   "execution_count": 23,
   "metadata": {},
   "outputs": [
    {
     "name": "stdout",
     "output_type": "stream",
     "text": [
      "FROM jupyter/datascience-notebook\n",
      "\n",
      "WORKDIR /app\n",
      "\n",
      "ADD . /app\n",
      "\n",
      "RUN pip install jupyter_kernel_gateway\n",
      "\n",
      "# run kernel gateway on container start, not notebook server\n",
      "EXPOSE 8888\n",
      "\n",
      "CMD [\"jupyter\", \"kernelgateway\",  \"--KernelGatewayApp.api='kernel_gateway.notebook_http'\", \"--KernelGatewayApp.ip=0.0.0.0\", \"--KernelGatewayApp.port=8888\", \"--KernelGatewayApp.seed_uri=hello-notebook-http-mode.ipynb\", \"--KernelGatewayApp.allow_origin='*'\"]\n",
      "\n"
     ]
    }
   ],
   "source": [
    "with open('Dockerfile', 'r') as file:\n",
    "    print(file.read())"
   ]
  },
  {
   "cell_type": "code",
   "execution_count": 67,
   "metadata": {},
   "outputs": [
    {
     "name": "stdout",
     "output_type": "stream",
     "text": [
      "hello-notebook-http-mode.html\n",
      "\n"
     ]
    }
   ],
   "source": [
    "with open('.dockerignore', 'r') as file:\n",
    "    print(file.read())"
   ]
  },
  {
   "cell_type": "markdown",
   "metadata": {},
   "source": [
    "And then to run locally, I use:\n",
    "\n",
    "```sh\n",
    "docker build -t my/kernel-gateway .\n",
    "docker run -it --rm -p 8888:8888 my/kernel-gateway\n",
    "```"
   ]
  },
  {
   "cell_type": "markdown",
   "metadata": {},
   "source": [
    "## fly.io\n",
    "\n",
    "To deploy to [fly.io](https://fly.io), run\n",
    "\n",
    "```\n",
    "fly launch\n",
    "```\n",
    "\n",
    "which generates something like:"
   ]
  },
  {
   "cell_type": "code",
   "execution_count": 24,
   "metadata": {},
   "outputs": [
    {
     "name": "stdout",
     "output_type": "stream",
     "text": [
      "# fly.toml app configuration file generated for hello-notebook-http-mode on 2024-09-25T09:29:23+10:00\n",
      "#\n",
      "# See https://fly.io/docs/reference/configuration/ for information about how to use this file.\n",
      "#\n",
      "\n",
      "app = 'hello-notebook-http-mode'\n",
      "primary_region = 'syd'\n",
      "\n",
      "[build]\n",
      "\n",
      "[http_service]\n",
      "  internal_port = 8888\n",
      "  force_https = true\n",
      "  auto_stop_machines = 'stop'\n",
      "  auto_start_machines = true\n",
      "  min_machines_running = 0\n",
      "  processes = ['app']\n",
      "\n",
      "[[vm]]\n",
      "  memory = '1gb'\n",
      "  cpu_kind = 'shared'\n",
      "  cpus = 1\n",
      "\n"
     ]
    }
   ],
   "source": [
    "with open('fly.toml', 'r') as file:\n",
    "    print(file.read())"
   ]
  },
  {
   "cell_type": "markdown",
   "metadata": {},
   "source": [
    "## See also\n",
    "\n",
    "I love notebooks. I have also written:\n",
    "\n",
    "* [Reactive HTML notebooks](https://maxbo.me/a-html-file-is-all-you-need.html)\n",
    "* [@celine/celine](https://maxbo.me/celine), a microlibrary for building reactive HTML notebooks"
   ]
  },
  {
   "cell_type": "markdown",
   "metadata": {},
   "source": [
    "## License"
   ]
  },
  {
   "cell_type": "code",
   "execution_count": 25,
   "metadata": {},
   "outputs": [
    {
     "name": "stdout",
     "output_type": "stream",
     "text": [
      "MIT License\n",
      "\n",
      "Copyright (c) 2024 Max Bo\n",
      "\n",
      "Permission is hereby granted, free of charge, to any person obtaining a copy\n",
      "of this software and associated documentation files (the \"Software\"), to deal\n",
      "in the Software without restriction, including without limitation the rights\n",
      "to use, copy, modify, merge, publish, distribute, sublicense, and/or sell\n",
      "copies of the Software, and to permit persons to whom the Software is\n",
      "furnished to do so, subject to the following conditions:\n",
      "\n",
      "The above copyright notice and this permission notice shall be included in all\n",
      "copies or substantial portions of the Software.\n",
      "\n",
      "THE SOFTWARE IS PROVIDED \"AS IS\", WITHOUT WARRANTY OF ANY KIND, EXPRESS OR\n",
      "IMPLIED, INCLUDING BUT NOT LIMITED TO THE WARRANTIES OF MERCHANTABILITY,\n",
      "FITNESS FOR A PARTICULAR PURPOSE AND NONINFRINGEMENT. IN NO EVENT SHALL THE\n",
      "AUTHORS OR COPYRIGHT HOLDERS BE LIABLE FOR ANY CLAIM, DAMAGES OR OTHER\n",
      "LIABILITY, WHETHER IN AN ACTION OF CONTRACT, TORT OR OTHERWISE, ARISING FROM,\n",
      "OUT OF OR IN CONNECTION WITH THE SOFTWARE OR THE USE OR OTHER DEALINGS IN THE\n",
      "SOFTWARE.\n",
      "\n"
     ]
    }
   ],
   "source": [
    "# GET /LICENSE\n",
    "with open('LICENSE', 'r') as file:\n",
    "    print(file.read())"
   ]
  }
 ],
 "metadata": {
  "kernelspec": {
   "display_name": "Python 3",
   "language": "python",
   "name": "python3"
  },
  "language_info": {
   "codemirror_mode": {
    "name": "ipython",
    "version": 3
   },
   "file_extension": ".py",
   "mimetype": "text/x-python",
   "name": "python",
   "nbconvert_exporter": "python",
   "pygments_lexer": "ipython3",
   "version": "3.9.6"
  }
 },
 "nbformat": 4,
 "nbformat_minor": 2
}
