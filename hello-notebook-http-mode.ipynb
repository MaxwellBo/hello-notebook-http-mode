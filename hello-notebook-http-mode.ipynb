{
 "cells": [
  {
   "cell_type": "markdown",
   "metadata": {},
   "source": [
    "# Hello, `notebook-http` mode\n",
    "\n",
    "**_A notebook serving itself and an API from [fly.io](https://fly.io) using [Jupyter Kernel Gateway `notebook-http` mode](https://jupyter-kernel-gateway.readthedocs.io/en/latest/http-mode.html)_**\n",
    "\n",
    "[Max Bo](https://maxbo.me), published 25 September 2024\n",
    "\n",
    "---\n",
    "\n",
    "I was inspired by the [new HATEOS article](https://htmx.org/essays/hateoas/) by the [htmx](https://htmx.org/) folks, and wanted to see if I could create a self-documenting API.\n",
    "\n",
    "I think this fits the bill.\n",
    "\n",
    "[github.com/MaxwellBo/hello-notebook-http-mode](https://github.com/MaxwellBo/hello-notebook-http-mode).\n"
   ]
  },
  {
   "cell_type": "markdown",
   "metadata": {},
   "source": [
    "## Reflection\n",
    "\n",
    "How does the notebook render itself?"
   ]
  },
  {
   "cell_type": "code",
   "execution_count": 57,
   "metadata": {},
   "outputs": [],
   "source": [
    "# GET /\n",
    "import os\n",
    "import subprocess\n",
    "\n",
    "if not os.path.exists('hello.html'):\n",
    "    subprocess.run([\"jupyter\", \"nbconvert\", \"--to\", \"html\", \"hello-notebook-http-mode.ipynb\"])\n",
    "\n",
    "with open('hello.html', 'r') as file:\n",
    "    print(file.read())"
   ]
  },
  {
   "cell_type": "code",
   "execution_count": 58,
   "metadata": {},
   "outputs": [
    {
     "name": "stdout",
     "output_type": "stream",
     "text": [
      "{\"headers\": {\"Content-Type\": \"text/html\"}, \"status\": 200}\n"
     ]
    }
   ],
   "source": [
    "# ResponseInfo GET /\n",
    "import json\n",
    "\n",
    "print(json.dumps({\n",
    "    \"headers\" : {\n",
    "        \"Content-Type\" : \"text/html\"\n",
    "    },\n",
    "    \"status\" : 200\n",
    "}))"
   ]
  },
  {
   "cell_type": "markdown",
   "metadata": {},
   "source": [
    "## Endpoints"
   ]
  },
  {
   "cell_type": "markdown",
   "metadata": {},
   "source": [
    "Visit [/time](/time) to see the API response."
   ]
  },
  {
   "cell_type": "code",
   "execution_count": 59,
   "metadata": {},
   "outputs": [
    {
     "name": "stdout",
     "output_type": "stream",
     "text": [
      "2024-09-25 12:41:25.821303\n"
     ]
    }
   ],
   "source": [
    "# GET /time\n",
    "\n",
    "from datetime import datetime\n",
    "\n",
    "print(datetime.now())"
   ]
  },
  {
   "cell_type": "markdown",
   "metadata": {},
   "source": [
    "Query parameters can be extracted from an injected `REQUEST` object that's not available at standard Jupyter notebook evaluation time.\n",
    "\n",
    "[/increment/:1](/increment/1)"
   ]
  },
  {
   "cell_type": "code",
   "execution_count": 60,
   "metadata": {},
   "outputs": [
    {
     "ename": "NameError",
     "evalue": "name 'REQUEST' is not defined",
     "output_type": "error",
     "traceback": [
      "\u001b[0;31m---------------------------------------------------------------------------\u001b[0m",
      "\u001b[0;31mNameError\u001b[0m                                 Traceback (most recent call last)",
      "Cell \u001b[0;32mIn[60], line 4\u001b[0m\n\u001b[1;32m      1\u001b[0m \u001b[38;5;66;03m# GET /increment/:value\u001b[39;00m\n\u001b[1;32m      2\u001b[0m \u001b[38;5;28;01mimport\u001b[39;00m \u001b[38;5;21;01mjson\u001b[39;00m\n\u001b[0;32m----> 4\u001b[0m req \u001b[38;5;241m=\u001b[39m json\u001b[38;5;241m.\u001b[39mloads(\u001b[43mREQUEST\u001b[49m)\n\u001b[1;32m      5\u001b[0m value \u001b[38;5;241m=\u001b[39m \u001b[38;5;28mint\u001b[39m(req[\u001b[38;5;124m'\u001b[39m\u001b[38;5;124mpath\u001b[39m\u001b[38;5;124m'\u001b[39m][\u001b[38;5;124m'\u001b[39m\u001b[38;5;124mvalue\u001b[39m\u001b[38;5;124m'\u001b[39m])\n\u001b[1;32m      6\u001b[0m \u001b[38;5;28mprint\u001b[39m(value \u001b[38;5;241m+\u001b[39m \u001b[38;5;241m1\u001b[39m)\n",
      "\u001b[0;31mNameError\u001b[0m: name 'REQUEST' is not defined"
     ]
    }
   ],
   "source": [
    "# GET /increment/:value\n",
    "import json\n",
    "\n",
    "req = json.loads(REQUEST)\n",
    "value = int(req['path']['value'])\n",
    "print(value + 1)\n"
   ]
  },
  {
   "cell_type": "markdown",
   "metadata": {},
   "source": [
    "## Docker"
   ]
  },
  {
   "cell_type": "code",
   "execution_count": 6,
   "metadata": {},
   "outputs": [
    {
     "name": "stdout",
     "output_type": "stream",
     "text": [
      "FROM jupyter/datascience-notebook\n",
      "\n",
      "WORKDIR /app\n",
      "\n",
      "ADD . /app\n",
      "\n",
      "# install the kernel gateway\n",
      "RUN pip install jupyter_kernel_gateway\n",
      "\n",
      "# run kernel gateway on container start, not notebook server\n",
      "EXPOSE 8888\n",
      "\n",
      "CMD [\"jupyter\", \"kernelgateway\",  \"--KernelGatewayApp.api='kernel_gateway.notebook_http'\", \"--KernelGatewayApp.ip=0.0.0.0\", \"--KernelGatewayApp.port=8888\", \"--KernelGatewayApp.seed_uri=hello.ipynb\", \"--KernelGatewayApp.allow_origin='*'\"]\n",
      "\n"
     ]
    }
   ],
   "source": [
    "# GET /Dockerfile\n",
    "\n",
    "with open('Dockerfile', 'r') as file:\n",
    "    print(file.read())"
   ]
  },
  {
   "cell_type": "markdown",
   "metadata": {},
   "source": [
    "To run locally:\n",
    "\n",
    "```sh\n",
    "docker build -t my/kernel-gateway .\n",
    "docker run -it --rm -p 8888:8888 my/kernel-gateway\n",
    "```\n",
    "\n",
    "Adapted from [Jupyter Kernel Gatyway documentation - Running using a Docker stacks image](https://jupyter-kernel-gateway.readthedocs.io/en/stable/http-mode.html)."
   ]
  },
  {
   "cell_type": "markdown",
   "metadata": {},
   "source": [
    "## fly.io\n",
    "\n",
    "To deploy to [fly.io](https://fly.io):\n",
    "\n",
    "```\n",
    "fly launch\n",
    "```\n",
    "\n",
    "which generates"
   ]
  },
  {
   "cell_type": "code",
   "execution_count": 2,
   "metadata": {},
   "outputs": [
    {
     "name": "stdout",
     "output_type": "stream",
     "text": [
      "# fly.toml app configuration file generated for hello-notebook-http-mode on 2024-09-25T09:29:23+10:00\n",
      "#\n",
      "# See https://fly.io/docs/reference/configuration/ for information about how to use this file.\n",
      "#\n",
      "\n",
      "app = 'hello-notebook-http-mode'\n",
      "primary_region = 'syd'\n",
      "\n",
      "[build]\n",
      "\n",
      "[http_service]\n",
      "  internal_port = 8888\n",
      "  force_https = true\n",
      "  auto_stop_machines = 'stop'\n",
      "  auto_start_machines = true\n",
      "  min_machines_running = 0\n",
      "  processes = ['app']\n",
      "\n",
      "[[vm]]\n",
      "  memory = '1gb'\n",
      "  cpu_kind = 'shared'\n",
      "  cpus = 1\n",
      "\n"
     ]
    }
   ],
   "source": [
    "# GET /fly.toml\n",
    "\n",
    "with open('fly.toml', 'r') as file:\n",
    "    print(file.read())"
   ]
  },
  {
   "cell_type": "markdown",
   "metadata": {},
   "source": [
    "## Swagger\n",
    "\n",
    "The Swagger API docs are available at [/_api/spec/swagger.json](/_api/spec/swagger.json)."
   ]
  },
  {
   "cell_type": "markdown",
   "metadata": {},
   "source": [
    "## License"
   ]
  },
  {
   "cell_type": "code",
   "execution_count": 1,
   "metadata": {},
   "outputs": [
    {
     "name": "stdout",
     "output_type": "stream",
     "text": [
      "MIT License\n",
      "\n",
      "Copyright (c) 2024 Max Bo\n",
      "\n",
      "Permission is hereby granted, free of charge, to any person obtaining a copy\n",
      "of this software and associated documentation files (the \"Software\"), to deal\n",
      "in the Software without restriction, including without limitation the rights\n",
      "to use, copy, modify, merge, publish, distribute, sublicense, and/or sell\n",
      "copies of the Software, and to permit persons to whom the Software is\n",
      "furnished to do so, subject to the following conditions:\n",
      "\n",
      "The above copyright notice and this permission notice shall be included in all\n",
      "copies or substantial portions of the Software.\n",
      "\n",
      "THE SOFTWARE IS PROVIDED \"AS IS\", WITHOUT WARRANTY OF ANY KIND, EXPRESS OR\n",
      "IMPLIED, INCLUDING BUT NOT LIMITED TO THE WARRANTIES OF MERCHANTABILITY,\n",
      "FITNESS FOR A PARTICULAR PURPOSE AND NONINFRINGEMENT. IN NO EVENT SHALL THE\n",
      "AUTHORS OR COPYRIGHT HOLDERS BE LIABLE FOR ANY CLAIM, DAMAGES OR OTHER\n",
      "LIABILITY, WHETHER IN AN ACTION OF CONTRACT, TORT OR OTHERWISE, ARISING FROM,\n",
      "OUT OF OR IN CONNECTION WITH THE SOFTWARE OR THE USE OR OTHER DEALINGS IN THE\n",
      "SOFTWARE.\n",
      "\n"
     ]
    }
   ],
   "source": [
    "# GET /LICENSE\n",
    "\n",
    "with open('LICENSE', 'r') as file:\n",
    "    print(file.read())"
   ]
  }
 ],
 "metadata": {
  "kernelspec": {
   "display_name": "Python 3",
   "language": "python",
   "name": "python3"
  },
  "language_info": {
   "codemirror_mode": {
    "name": "ipython",
    "version": 3
   },
   "file_extension": ".py",
   "mimetype": "text/x-python",
   "name": "python",
   "nbconvert_exporter": "python",
   "pygments_lexer": "ipython3",
   "version": "3.9.6"
  }
 },
 "nbformat": 4,
 "nbformat_minor": 2
}
